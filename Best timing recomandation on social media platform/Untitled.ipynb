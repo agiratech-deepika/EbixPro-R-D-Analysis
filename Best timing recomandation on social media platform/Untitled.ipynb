{
 "cells": [
  {
   "cell_type": "code",
   "execution_count": 2,
   "id": "88ec08cf-76bb-4e2b-b3be-09a12d53d043",
   "metadata": {},
   "outputs": [],
   "source": [
    "import pandas as pd\n",
    "import numpy as np\n",
    "from sklearn.model_selection import train_test_split\n",
    "from sklearn.ensemble import RandomForestRegressor\n",
    "from sklearn.metrics import mean_absolute_error\n",
    "from sklearn.preprocessing import LabelEncoder\n",
    "import matplotlib.pyplot as plt\n"
   ]
  },
  {
   "cell_type": "code",
   "execution_count": 3,
   "id": "3ce12df1-73bf-4213-baad-e2564d29e4ae",
   "metadata": {},
   "outputs": [
    {
     "name": "stdout",
     "output_type": "stream",
     "text": [
      "  order_id customer_id product_category  quantity   price  \\\n",
      "0     O001        C042        Furniture         1  194.33   \n",
      "1     O002        C002             Toys         3  187.67   \n",
      "2     O003        C031          Fashion         5  108.86   \n",
      "3     O004        C026          Fashion         5  150.13   \n",
      "4     O005        C045        Furniture         4  464.22   \n",
      "\n",
      "    purchase_timestamp customer_age customer_gender       location  \\\n",
      "0  2021-02-06 18:00:00        25-34           Other  San Francisco   \n",
      "1  2023-04-23 22:49:00        45-54            Male        Chicago   \n",
      "2  2021-10-13 04:17:00          55+          Female        Houston   \n",
      "3  2024-12-24 21:47:00          55+            Male  San Francisco   \n",
      "4  2020-05-26 11:10:00        25-34          Female        Houston   \n",
      "\n",
      "   marketing_channel engagement_time  \n",
      "0                SMS        12:27 PM  \n",
      "1                SMS        12:40 AM  \n",
      "2  Push Notification        04:36 PM  \n",
      "3  Push Notification        03:39 PM  \n",
      "4       Social Media        06:22 PM  \n"
     ]
    }
   ],
   "source": [
    "# Load the data from CSV (replace with your actual file path)\n",
    "data = pd.read_csv('C:\\Projects\\EbixPro_AI_bot\\Analysis\\Best timing recomandation on social media platform\\sample_purchase_data.csv')\n",
    "\n",
    "# Display the first few rows to understand the structure of the data\n",
    "print(data.head())\n"
   ]
  },
  {
   "cell_type": "code",
   "execution_count": 4,
   "id": "c69b51e8-fade-456f-96cc-97ab84cd1d8d",
   "metadata": {},
   "outputs": [
    {
     "data": {
      "text/html": [
       "<div>\n",
       "<style scoped>\n",
       "    .dataframe tbody tr th:only-of-type {\n",
       "        vertical-align: middle;\n",
       "    }\n",
       "\n",
       "    .dataframe tbody tr th {\n",
       "        vertical-align: top;\n",
       "    }\n",
       "\n",
       "    .dataframe thead th {\n",
       "        text-align: right;\n",
       "    }\n",
       "</style>\n",
       "<table border=\"1\" class=\"dataframe\">\n",
       "  <thead>\n",
       "    <tr style=\"text-align: right;\">\n",
       "      <th></th>\n",
       "      <th>order_id</th>\n",
       "      <th>customer_id</th>\n",
       "      <th>product_category</th>\n",
       "      <th>quantity</th>\n",
       "      <th>price</th>\n",
       "      <th>purchase_timestamp</th>\n",
       "      <th>customer_age</th>\n",
       "      <th>customer_gender</th>\n",
       "      <th>location</th>\n",
       "      <th>marketing_channel</th>\n",
       "      <th>engagement_time</th>\n",
       "    </tr>\n",
       "  </thead>\n",
       "  <tbody>\n",
       "    <tr>\n",
       "      <th>0</th>\n",
       "      <td>O001</td>\n",
       "      <td>C042</td>\n",
       "      <td>Furniture</td>\n",
       "      <td>1</td>\n",
       "      <td>194.33</td>\n",
       "      <td>2021-02-06 18:00:00</td>\n",
       "      <td>25-34</td>\n",
       "      <td>Other</td>\n",
       "      <td>San Francisco</td>\n",
       "      <td>SMS</td>\n",
       "      <td>12:27 PM</td>\n",
       "    </tr>\n",
       "    <tr>\n",
       "      <th>1</th>\n",
       "      <td>O002</td>\n",
       "      <td>C002</td>\n",
       "      <td>Toys</td>\n",
       "      <td>3</td>\n",
       "      <td>187.67</td>\n",
       "      <td>2023-04-23 22:49:00</td>\n",
       "      <td>45-54</td>\n",
       "      <td>Male</td>\n",
       "      <td>Chicago</td>\n",
       "      <td>SMS</td>\n",
       "      <td>12:40 AM</td>\n",
       "    </tr>\n",
       "    <tr>\n",
       "      <th>2</th>\n",
       "      <td>O003</td>\n",
       "      <td>C031</td>\n",
       "      <td>Fashion</td>\n",
       "      <td>5</td>\n",
       "      <td>108.86</td>\n",
       "      <td>2021-10-13 04:17:00</td>\n",
       "      <td>55+</td>\n",
       "      <td>Female</td>\n",
       "      <td>Houston</td>\n",
       "      <td>Push Notification</td>\n",
       "      <td>04:36 PM</td>\n",
       "    </tr>\n",
       "    <tr>\n",
       "      <th>3</th>\n",
       "      <td>O004</td>\n",
       "      <td>C026</td>\n",
       "      <td>Fashion</td>\n",
       "      <td>5</td>\n",
       "      <td>150.13</td>\n",
       "      <td>2024-12-24 21:47:00</td>\n",
       "      <td>55+</td>\n",
       "      <td>Male</td>\n",
       "      <td>San Francisco</td>\n",
       "      <td>Push Notification</td>\n",
       "      <td>03:39 PM</td>\n",
       "    </tr>\n",
       "    <tr>\n",
       "      <th>4</th>\n",
       "      <td>O005</td>\n",
       "      <td>C045</td>\n",
       "      <td>Furniture</td>\n",
       "      <td>4</td>\n",
       "      <td>464.22</td>\n",
       "      <td>2020-05-26 11:10:00</td>\n",
       "      <td>25-34</td>\n",
       "      <td>Female</td>\n",
       "      <td>Houston</td>\n",
       "      <td>Social Media</td>\n",
       "      <td>06:22 PM</td>\n",
       "    </tr>\n",
       "  </tbody>\n",
       "</table>\n",
       "</div>"
      ],
      "text/plain": [
       "  order_id customer_id product_category  quantity   price  \\\n",
       "0     O001        C042        Furniture         1  194.33   \n",
       "1     O002        C002             Toys         3  187.67   \n",
       "2     O003        C031          Fashion         5  108.86   \n",
       "3     O004        C026          Fashion         5  150.13   \n",
       "4     O005        C045        Furniture         4  464.22   \n",
       "\n",
       "    purchase_timestamp customer_age customer_gender       location  \\\n",
       "0  2021-02-06 18:00:00        25-34           Other  San Francisco   \n",
       "1  2023-04-23 22:49:00        45-54            Male        Chicago   \n",
       "2  2021-10-13 04:17:00          55+          Female        Houston   \n",
       "3  2024-12-24 21:47:00          55+            Male  San Francisco   \n",
       "4  2020-05-26 11:10:00        25-34          Female        Houston   \n",
       "\n",
       "   marketing_channel engagement_time  \n",
       "0                SMS        12:27 PM  \n",
       "1                SMS        12:40 AM  \n",
       "2  Push Notification        04:36 PM  \n",
       "3  Push Notification        03:39 PM  \n",
       "4       Social Media        06:22 PM  "
      ]
     },
     "execution_count": 4,
     "metadata": {},
     "output_type": "execute_result"
    }
   ],
   "source": [
    "data.head()"
   ]
  },
  {
   "cell_type": "code",
   "execution_count": 18,
   "id": "7a2011be-e2fb-4cd7-bcf7-1cac1d1b28b9",
   "metadata": {},
   "outputs": [
    {
     "data": {
      "text/plain": [
       "order_id                   0\n",
       "customer_id                0\n",
       "product_category           0\n",
       "quantity                   0\n",
       "price                      0\n",
       "purchase_timestamp         0\n",
       "customer_age               0\n",
       "customer_gender            0\n",
       "location                   0\n",
       "marketing_channel          0\n",
       "engagement_time            0\n",
       "hour                       0\n",
       "day_of_week                0\n",
       "month                      0\n",
       "engagement_time_minutes    0\n",
       "dtype: int64"
      ]
     },
     "execution_count": 18,
     "metadata": {},
     "output_type": "execute_result"
    }
   ],
   "source": [
    "# Check for missing values\n",
    "data.isnull().sum()\n"
   ]
  },
  {
   "cell_type": "code",
   "execution_count": 19,
   "id": "3e9030ec-0528-4893-ace1-fd27826dcc40",
   "metadata": {},
   "outputs": [],
   "source": [
    "# Example: Fill missing values\n",
    "data['customer_gender'].fillna(data['customer_gender'].mode()[0], inplace=True)\n",
    "data['quantity'].fillna(data['quantity'].median(), inplace=True)\n"
   ]
  },
  {
   "cell_type": "code",
   "execution_count": 20,
   "id": "4f5b266f-1404-4f45-b067-ddc0db034773",
   "metadata": {},
   "outputs": [],
   "source": [
    "data['purchase_timestamp'] = pd.to_datetime(data['purchase_timestamp'])\n"
   ]
  },
  {
   "cell_type": "code",
   "execution_count": 21,
   "id": "a3abb795-93d4-47b9-b82c-677d08bee277",
   "metadata": {},
   "outputs": [],
   "source": [
    "data['year'] = data['purchase_timestamp'].dt.year\n",
    "data['month'] = data['purchase_timestamp'].dt.month\n",
    "data['day'] = data['purchase_timestamp'].dt.day\n",
    "data['hour'] = data['purchase_timestamp'].dt.hour\n",
    "data['minute'] = data['purchase_timestamp'].dt.minute\n",
    "data['day_of_week'] = data['purchase_timestamp'].dt.weekday\n"
   ]
  },
  {
   "cell_type": "code",
   "execution_count": 22,
   "id": "1ce8d8fc-4cde-4e65-809d-d1c31e2f52da",
   "metadata": {},
   "outputs": [],
   "source": [
    "age_mapping = {\n",
    "    '18-24': 1, '25-34': 2, '35-44': 3, '45-54': 4, '55+': 5\n",
    "}\n",
    "data['customer_age'] = data['customer_age'].map(age_mapping)\n"
   ]
  },
  {
   "cell_type": "code",
   "execution_count": 23,
   "id": "79101458-f400-4b18-9d38-18f2fb29bba6",
   "metadata": {},
   "outputs": [],
   "source": [
    "data = pd.get_dummies(data, columns=['customer_age'], drop_first=True)\n"
   ]
  },
  {
   "cell_type": "code",
   "execution_count": 24,
   "id": "203fad0d-2a38-4b0a-b1b4-f2f6b6aeb9cb",
   "metadata": {},
   "outputs": [],
   "source": [
    "from sklearn.preprocessing import LabelEncoder\n",
    "\n",
    "# Encode categorical variables\n",
    "le_gender = LabelEncoder()\n",
    "le_location = LabelEncoder()\n",
    "le_channel = LabelEncoder()\n",
    "\n",
    "data['customer_gender'] = le_gender.fit_transform(data['customer_gender'])\n",
    "data['location'] = le_location.fit_transform(data['location'])\n",
    "data['marketing_channel'] = le_channel.fit_transform(data['marketing_channel'])\n"
   ]
  },
  {
   "cell_type": "code",
   "execution_count": 25,
   "id": "906c041f-c03c-4409-b032-2d76a0ffa61a",
   "metadata": {},
   "outputs": [],
   "source": [
    "data = pd.get_dummies(data, columns=['customer_gender', 'location', 'marketing_channel'], drop_first=True)\n"
   ]
  },
  {
   "cell_type": "code",
   "execution_count": 26,
   "id": "1bbf8ab8-904e-4516-899e-dd716568c8d3",
   "metadata": {},
   "outputs": [],
   "source": [
    "data['engagement_time'] = pd.to_datetime(data['engagement_time'], format='%I:%M %p')\n",
    "\n",
    "data['engagement_hour'] = data['engagement_time'].dt.hour\n",
    "data['engagement_minute'] = data['engagement_time'].dt.minute\n"
   ]
  },
  {
   "cell_type": "code",
   "execution_count": 27,
   "id": "ffd2f2b0-22e3-4a01-bc5f-f9033a5eba36",
   "metadata": {},
   "outputs": [],
   "source": [
    "from sklearn.preprocessing import StandardScaler\n",
    "\n",
    "scaler = StandardScaler()\n",
    "data[['price', 'quantity']] = scaler.fit_transform(data[['price', 'quantity']])\n"
   ]
  },
  {
   "cell_type": "code",
   "execution_count": 28,
   "id": "7181d550-84af-4337-bc1b-9fdc12eb0cd9",
   "metadata": {},
   "outputs": [
    {
     "data": {
      "text/html": [
       "<div>\n",
       "<style scoped>\n",
       "    .dataframe tbody tr th:only-of-type {\n",
       "        vertical-align: middle;\n",
       "    }\n",
       "\n",
       "    .dataframe tbody tr th {\n",
       "        vertical-align: top;\n",
       "    }\n",
       "\n",
       "    .dataframe thead th {\n",
       "        text-align: right;\n",
       "    }\n",
       "</style>\n",
       "<table border=\"1\" class=\"dataframe\">\n",
       "  <thead>\n",
       "    <tr style=\"text-align: right;\">\n",
       "      <th></th>\n",
       "      <th>order_id</th>\n",
       "      <th>customer_id</th>\n",
       "      <th>product_category</th>\n",
       "      <th>quantity</th>\n",
       "      <th>price</th>\n",
       "      <th>purchase_timestamp</th>\n",
       "      <th>engagement_time</th>\n",
       "      <th>hour</th>\n",
       "      <th>day_of_week</th>\n",
       "      <th>month</th>\n",
       "      <th>...</th>\n",
       "      <th>customer_gender_2</th>\n",
       "      <th>location_1</th>\n",
       "      <th>location_2</th>\n",
       "      <th>location_3</th>\n",
       "      <th>location_4</th>\n",
       "      <th>marketing_channel_1</th>\n",
       "      <th>marketing_channel_2</th>\n",
       "      <th>marketing_channel_3</th>\n",
       "      <th>engagement_hour</th>\n",
       "      <th>engagement_minute</th>\n",
       "    </tr>\n",
       "  </thead>\n",
       "  <tbody>\n",
       "    <tr>\n",
       "      <th>0</th>\n",
       "      <td>O001</td>\n",
       "      <td>C042</td>\n",
       "      <td>2</td>\n",
       "      <td>-1.469880</td>\n",
       "      <td>-0.489389</td>\n",
       "      <td>2021-02-06 18:00:00</td>\n",
       "      <td>1900-01-01 12:27:00</td>\n",
       "      <td>18</td>\n",
       "      <td>5</td>\n",
       "      <td>2</td>\n",
       "      <td>...</td>\n",
       "      <td>True</td>\n",
       "      <td>False</td>\n",
       "      <td>False</td>\n",
       "      <td>False</td>\n",
       "      <td>True</td>\n",
       "      <td>False</td>\n",
       "      <td>True</td>\n",
       "      <td>False</td>\n",
       "      <td>12</td>\n",
       "      <td>27</td>\n",
       "    </tr>\n",
       "    <tr>\n",
       "      <th>1</th>\n",
       "      <td>O002</td>\n",
       "      <td>C002</td>\n",
       "      <td>4</td>\n",
       "      <td>0.002946</td>\n",
       "      <td>-0.537954</td>\n",
       "      <td>2023-04-23 22:49:00</td>\n",
       "      <td>1900-01-01 00:40:00</td>\n",
       "      <td>22</td>\n",
       "      <td>6</td>\n",
       "      <td>4</td>\n",
       "      <td>...</td>\n",
       "      <td>False</td>\n",
       "      <td>False</td>\n",
       "      <td>False</td>\n",
       "      <td>False</td>\n",
       "      <td>False</td>\n",
       "      <td>False</td>\n",
       "      <td>True</td>\n",
       "      <td>False</td>\n",
       "      <td>0</td>\n",
       "      <td>40</td>\n",
       "    </tr>\n",
       "    <tr>\n",
       "      <th>2</th>\n",
       "      <td>O003</td>\n",
       "      <td>C031</td>\n",
       "      <td>1</td>\n",
       "      <td>1.475772</td>\n",
       "      <td>-1.112646</td>\n",
       "      <td>2021-10-13 04:17:00</td>\n",
       "      <td>1900-01-01 16:36:00</td>\n",
       "      <td>4</td>\n",
       "      <td>2</td>\n",
       "      <td>10</td>\n",
       "      <td>...</td>\n",
       "      <td>False</td>\n",
       "      <td>True</td>\n",
       "      <td>False</td>\n",
       "      <td>False</td>\n",
       "      <td>False</td>\n",
       "      <td>True</td>\n",
       "      <td>False</td>\n",
       "      <td>False</td>\n",
       "      <td>16</td>\n",
       "      <td>36</td>\n",
       "    </tr>\n",
       "    <tr>\n",
       "      <th>3</th>\n",
       "      <td>O004</td>\n",
       "      <td>C026</td>\n",
       "      <td>1</td>\n",
       "      <td>1.475772</td>\n",
       "      <td>-0.811700</td>\n",
       "      <td>2024-12-24 21:47:00</td>\n",
       "      <td>1900-01-01 15:39:00</td>\n",
       "      <td>21</td>\n",
       "      <td>1</td>\n",
       "      <td>12</td>\n",
       "      <td>...</td>\n",
       "      <td>False</td>\n",
       "      <td>False</td>\n",
       "      <td>False</td>\n",
       "      <td>False</td>\n",
       "      <td>True</td>\n",
       "      <td>True</td>\n",
       "      <td>False</td>\n",
       "      <td>False</td>\n",
       "      <td>15</td>\n",
       "      <td>39</td>\n",
       "    </tr>\n",
       "    <tr>\n",
       "      <th>4</th>\n",
       "      <td>O005</td>\n",
       "      <td>C045</td>\n",
       "      <td>2</td>\n",
       "      <td>0.739359</td>\n",
       "      <td>1.478682</td>\n",
       "      <td>2020-05-26 11:10:00</td>\n",
       "      <td>1900-01-01 18:22:00</td>\n",
       "      <td>11</td>\n",
       "      <td>1</td>\n",
       "      <td>5</td>\n",
       "      <td>...</td>\n",
       "      <td>False</td>\n",
       "      <td>True</td>\n",
       "      <td>False</td>\n",
       "      <td>False</td>\n",
       "      <td>False</td>\n",
       "      <td>False</td>\n",
       "      <td>False</td>\n",
       "      <td>True</td>\n",
       "      <td>18</td>\n",
       "      <td>22</td>\n",
       "    </tr>\n",
       "  </tbody>\n",
       "</table>\n",
       "<p>5 rows × 25 columns</p>\n",
       "</div>"
      ],
      "text/plain": [
       "  order_id customer_id  product_category  quantity     price  \\\n",
       "0     O001        C042                 2 -1.469880 -0.489389   \n",
       "1     O002        C002                 4  0.002946 -0.537954   \n",
       "2     O003        C031                 1  1.475772 -1.112646   \n",
       "3     O004        C026                 1  1.475772 -0.811700   \n",
       "4     O005        C045                 2  0.739359  1.478682   \n",
       "\n",
       "   purchase_timestamp     engagement_time  hour  day_of_week  month  ...  \\\n",
       "0 2021-02-06 18:00:00 1900-01-01 12:27:00    18            5      2  ...   \n",
       "1 2023-04-23 22:49:00 1900-01-01 00:40:00    22            6      4  ...   \n",
       "2 2021-10-13 04:17:00 1900-01-01 16:36:00     4            2     10  ...   \n",
       "3 2024-12-24 21:47:00 1900-01-01 15:39:00    21            1     12  ...   \n",
       "4 2020-05-26 11:10:00 1900-01-01 18:22:00    11            1      5  ...   \n",
       "\n",
       "   customer_gender_2  location_1  location_2  location_3  location_4  \\\n",
       "0               True       False       False       False        True   \n",
       "1              False       False       False       False       False   \n",
       "2              False        True       False       False       False   \n",
       "3              False       False       False       False        True   \n",
       "4              False        True       False       False       False   \n",
       "\n",
       "   marketing_channel_1  marketing_channel_2  marketing_channel_3  \\\n",
       "0                False                 True                False   \n",
       "1                False                 True                False   \n",
       "2                 True                False                False   \n",
       "3                 True                False                False   \n",
       "4                False                False                 True   \n",
       "\n",
       "   engagement_hour  engagement_minute  \n",
       "0               12                 27  \n",
       "1                0                 40  \n",
       "2               16                 36  \n",
       "3               15                 39  \n",
       "4               18                 22  \n",
       "\n",
       "[5 rows x 25 columns]"
      ]
     },
     "execution_count": 28,
     "metadata": {},
     "output_type": "execute_result"
    }
   ],
   "source": [
    "# Check the first few rows of the dataset\n",
    "data.head()\n"
   ]
  },
  {
   "cell_type": "code",
   "execution_count": 30,
   "id": "d8a46113-9784-42b5-8b15-d7893e7ad8e5",
   "metadata": {},
   "outputs": [
    {
     "name": "stdout",
     "output_type": "stream",
     "text": [
      "order_id                   0\n",
      "customer_id                0\n",
      "product_category           0\n",
      "quantity                   0\n",
      "price                      0\n",
      "purchase_timestamp         0\n",
      "engagement_time            0\n",
      "hour                       0\n",
      "day_of_week                0\n",
      "month                      0\n",
      "engagement_time_minutes    0\n",
      "year                       0\n",
      "day                        0\n",
      "minute                     0\n",
      "customer_gender_1          0\n",
      "customer_gender_2          0\n",
      "location_1                 0\n",
      "location_2                 0\n",
      "location_3                 0\n",
      "location_4                 0\n",
      "marketing_channel_1        0\n",
      "marketing_channel_2        0\n",
      "marketing_channel_3        0\n",
      "engagement_hour            0\n",
      "engagement_minute          0\n",
      "dtype: int64\n",
      "       product_category      quantity         price  \\\n",
      "count         250.00000  2.500000e+02  2.500000e+02   \n",
      "mean            1.96800  1.776357e-17  4.618528e-17   \n",
      "min             0.00000 -1.469880e+00 -1.810867e+00   \n",
      "25%             1.00000 -7.334673e-01 -7.680753e-01   \n",
      "50%             2.00000  2.945652e-03 -1.343180e-02   \n",
      "75%             3.00000  7.393586e-01  8.262014e-01   \n",
      "max             4.00000  1.475772e+00  1.738646e+00   \n",
      "std             1.39094  1.002006e+00  1.002006e+00   \n",
      "\n",
      "               purchase_timestamp                engagement_time        hour  \\\n",
      "count                         250                            250  250.000000   \n",
      "mean   2022-05-27 21:43:45.840000  1900-01-01 12:13:12.720000256   11.224000   \n",
      "min           2020-01-04 19:52:00            1900-01-01 00:08:00    0.000000   \n",
      "25%           2021-02-09 08:49:45            1900-01-01 06:00:00    5.000000   \n",
      "50%           2022-06-18 07:53:00            1900-01-01 12:45:00   11.000000   \n",
      "75%           2023-08-10 06:16:15            1900-01-01 18:20:00   18.000000   \n",
      "max           2024-12-30 19:09:00            1900-01-01 23:47:00   23.000000   \n",
      "std                           NaN                            NaN    7.074888   \n",
      "\n",
      "       day_of_week       month  engagement_time_minutes        year  \\\n",
      "count   250.000000  250.000000               250.000000   250.00000   \n",
      "mean      3.044000    6.572000               733.212000  2021.89600   \n",
      "min       0.000000    1.000000                 8.000000  2020.00000   \n",
      "25%       1.000000    3.000000               360.000000  2021.00000   \n",
      "50%       3.000000    7.000000               765.000000  2022.00000   \n",
      "75%       5.000000   10.000000              1100.000000  2023.00000   \n",
      "max       6.000000   12.000000              1427.000000  2024.00000   \n",
      "std       2.032384    3.532525               410.594621     1.37869   \n",
      "\n",
      "              day      minute  engagement_hour  engagement_minute  \n",
      "count  250.000000  250.000000       250.000000         250.000000  \n",
      "mean    16.548000   31.284000        11.724000          29.772000  \n",
      "min      1.000000    0.000000         0.000000           0.000000  \n",
      "25%     10.000000   17.000000         5.250000          15.250000  \n",
      "50%     18.000000   33.000000        12.000000          27.500000  \n",
      "75%     24.000000   45.000000        18.000000          45.000000  \n",
      "max     31.000000   59.000000        23.000000          59.000000  \n",
      "std      9.003775   16.598596         6.865301          17.314015  \n",
      "<class 'pandas.core.frame.DataFrame'>\n",
      "RangeIndex: 250 entries, 0 to 249\n",
      "Data columns (total 25 columns):\n",
      " #   Column                   Non-Null Count  Dtype         \n",
      "---  ------                   --------------  -----         \n",
      " 0   order_id                 250 non-null    object        \n",
      " 1   customer_id              250 non-null    object        \n",
      " 2   product_category         250 non-null    int64         \n",
      " 3   quantity                 250 non-null    float64       \n",
      " 4   price                    250 non-null    float64       \n",
      " 5   purchase_timestamp       250 non-null    datetime64[ns]\n",
      " 6   engagement_time          250 non-null    datetime64[ns]\n",
      " 7   hour                     250 non-null    int32         \n",
      " 8   day_of_week              250 non-null    int32         \n",
      " 9   month                    250 non-null    int32         \n",
      " 10  engagement_time_minutes  250 non-null    int64         \n",
      " 11  year                     250 non-null    int32         \n",
      " 12  day                      250 non-null    int32         \n",
      " 13  minute                   250 non-null    int32         \n",
      " 14  customer_gender_1        250 non-null    bool          \n",
      " 15  customer_gender_2        250 non-null    bool          \n",
      " 16  location_1               250 non-null    bool          \n",
      " 17  location_2               250 non-null    bool          \n",
      " 18  location_3               250 non-null    bool          \n",
      " 19  location_4               250 non-null    bool          \n",
      " 20  marketing_channel_1      250 non-null    bool          \n",
      " 21  marketing_channel_2      250 non-null    bool          \n",
      " 22  marketing_channel_3      250 non-null    bool          \n",
      " 23  engagement_hour          250 non-null    int32         \n",
      " 24  engagement_minute        250 non-null    int32         \n",
      "dtypes: bool(9), datetime64[ns](2), float64(2), int32(8), int64(2), object(2)\n",
      "memory usage: 25.8+ KB\n",
      "None\n"
     ]
    }
   ],
   "source": [
    "# Check for missing values\n",
    "print(data.isnull().sum())\n",
    "\n",
    "# Summary statistics of numerical features\n",
    "print(data.describe())\n",
    "\n",
    "# Check data types and basic information\n",
    "print(data.info())\n"
   ]
  },
  {
   "cell_type": "code",
   "execution_count": 31,
   "id": "36867406-756a-4df9-b3fa-f2f9cb6fafbf",
   "metadata": {},
   "outputs": [
    {
     "name": "stdout",
     "output_type": "stream",
     "text": [
      "<class 'pandas.core.frame.DataFrame'>\n",
      "RangeIndex: 250 entries, 0 to 249\n",
      "Data columns (total 25 columns):\n",
      " #   Column                   Non-Null Count  Dtype         \n",
      "---  ------                   --------------  -----         \n",
      " 0   order_id                 250 non-null    object        \n",
      " 1   customer_id              250 non-null    object        \n",
      " 2   product_category         250 non-null    int64         \n",
      " 3   quantity                 250 non-null    float64       \n",
      " 4   price                    250 non-null    float64       \n",
      " 5   purchase_timestamp       250 non-null    datetime64[ns]\n",
      " 6   engagement_time          250 non-null    datetime64[ns]\n",
      " 7   hour                     250 non-null    int32         \n",
      " 8   day_of_week              250 non-null    int32         \n",
      " 9   month                    250 non-null    int32         \n",
      " 10  engagement_time_minutes  250 non-null    int64         \n",
      " 11  year                     250 non-null    int32         \n",
      " 12  day                      250 non-null    int32         \n",
      " 13  minute                   250 non-null    int32         \n",
      " 14  customer_gender_1        250 non-null    bool          \n",
      " 15  customer_gender_2        250 non-null    bool          \n",
      " 16  location_1               250 non-null    bool          \n",
      " 17  location_2               250 non-null    bool          \n",
      " 18  location_3               250 non-null    bool          \n",
      " 19  location_4               250 non-null    bool          \n",
      " 20  marketing_channel_1      250 non-null    bool          \n",
      " 21  marketing_channel_2      250 non-null    bool          \n",
      " 22  marketing_channel_3      250 non-null    bool          \n",
      " 23  engagement_hour          250 non-null    int32         \n",
      " 24  engagement_minute        250 non-null    int32         \n",
      "dtypes: bool(9), datetime64[ns](2), float64(2), int32(8), int64(2), object(2)\n",
      "memory usage: 25.8+ KB\n"
     ]
    }
   ],
   "source": [
    "data.info()"
   ]
  },
  {
   "cell_type": "code",
   "execution_count": 33,
   "id": "4b967c7a-9ab8-4540-8834-cf777467bced",
   "metadata": {},
   "outputs": [
    {
     "data": {
      "image/png": "[encoded data removed]",
      "text/plain": [
       "<Figure size 1000x500 with 2 Axes>"
      ]
     },
     "metadata": {},
     "output_type": "display_data"
    }
   ],
   "source": [
    "import matplotlib.pyplot as plt\n",
    "import seaborn as sns\n",
    "\n",
    "# Histogram for quantity and price\n",
    "data[['quantity', 'price']].hist(figsize=(10, 5), bins=20)\n",
    "plt.suptitle('Distribution of Quantity and Price')\n",
    "plt.show()\n"
   ]
  },
  {
   "cell_type": "code",
   "execution_count": 34,
   "id": "ce0cb604-5889-4cf8-88df-4f7e31941d23",
   "metadata": {},
   "outputs": [
    {
     "data": {
      "image/png": "[encoded data removed]",
      "text/plain": [
       "<Figure size 640x480 with 1 Axes>"
      ]
     },
     "metadata": {},
     "output_type": "display_data"
    }
   ],
   "source": [
    "# Count plot of product categories\n",
    "sns.countplot(x='product_category', data=data)\n",
    "plt.title('Count of Product Categories')\n",
    "plt.xticks(rotation=45)\n",
    "plt.show()\n"
   ]
  },
  {
   "cell_type": "code",
   "execution_count": 38,
   "id": "80a4c7d8-1177-4964-8c86-13cc00bca9c0",
   "metadata": {},
   "outputs": [
    {
     "name": "stdout",
     "output_type": "stream",
     "text": [
      "Duplicate rows: 0\n",
      "product_category     5\n",
      "day_of_week          7\n",
      "month               12\n",
      "year                 5\n",
      "dtype: int64\n",
      "       product_category      quantity         price  \\\n",
      "count         250.00000  2.500000e+02  2.500000e+02   \n",
      "mean            1.96800  1.776357e-17  4.618528e-17   \n",
      "min             0.00000 -1.469880e+00 -1.810867e+00   \n",
      "25%             1.00000 -7.334673e-01 -7.680753e-01   \n",
      "50%             2.00000  2.945652e-03 -1.343180e-02   \n",
      "75%             3.00000  7.393586e-01  8.262014e-01   \n",
      "max             4.00000  1.475772e+00  1.738646e+00   \n",
      "std             1.39094  1.002006e+00  1.002006e+00   \n",
      "\n",
      "               purchase_timestamp                engagement_time        hour  \\\n",
      "count                         250                            250  250.000000   \n",
      "mean   2022-05-27 21:43:45.840000  1900-01-01 12:13:12.720000256   11.224000   \n",
      "min           2020-01-04 19:52:00            1900-01-01 00:08:00    0.000000   \n",
      "25%           2021-02-09 08:49:45            1900-01-01 06:00:00    5.000000   \n",
      "50%           2022-06-18 07:53:00            1900-01-01 12:45:00   11.000000   \n",
      "75%           2023-08-10 06:16:15            1900-01-01 18:20:00   18.000000   \n",
      "max           2024-12-30 19:09:00            1900-01-01 23:47:00   23.000000   \n",
      "std                           NaN                            NaN    7.074888   \n",
      "\n",
      "       day_of_week       month  engagement_time_minutes        year  \\\n",
      "count   250.000000  250.000000               250.000000   250.00000   \n",
      "mean      3.044000    6.572000               733.212000  2021.89600   \n",
      "min       0.000000    1.000000                 8.000000  2020.00000   \n",
      "25%       1.000000    3.000000               360.000000  2021.00000   \n",
      "50%       3.000000    7.000000               765.000000  2022.00000   \n",
      "75%       5.000000   10.000000              1100.000000  2023.00000   \n",
      "max       6.000000   12.000000              1427.000000  2024.00000   \n",
      "std       2.032384    3.532525               410.594621     1.37869   \n",
      "\n",
      "              day      minute  engagement_hour  engagement_minute  \n",
      "count  250.000000  250.000000       250.000000         250.000000  \n",
      "mean    16.548000   31.284000        11.724000          29.772000  \n",
      "min      1.000000    0.000000         0.000000           0.000000  \n",
      "25%     10.000000   17.000000         5.250000          15.250000  \n",
      "50%     18.000000   33.000000        12.000000          27.500000  \n",
      "75%     24.000000   45.000000        18.000000          45.000000  \n",
      "max     31.000000   59.000000        23.000000          59.000000  \n",
      "std      9.003775   16.598596         6.865301          17.314015  \n"
     ]
    }
   ],
   "source": [
    "# Check for duplicate entries\n",
    "print(\"Duplicate rows:\", data.duplicated().sum())\n",
    "\n",
    "# Verify unique values in categorical fields\n",
    "print(data[['product_category', 'day_of_week', 'month', 'year']].nunique())\n",
    "\n",
    "# Check statistical summary\n",
    "print(data.describe())\n"
   ]
  },
  {
   "cell_type": "code",
   "execution_count": 40,
   "id": "e6a7c9c0-f2c4-45e6-b44b-a205c15b0954",
   "metadata": {},
   "outputs": [
    {
     "data": {
      "image/png": "[encoded data removed]",
      "text/plain": [
       "<Figure size 1000x600 with 1 Axes>"
      ]
     },
     "metadata": {},
     "output_type": "display_data"
    }
   ],
   "source": [
    "import matplotlib.pyplot as plt\n",
    "import seaborn as sns\n",
    "\n",
    "# Purchases by year and month\n",
    "data.groupby(['year', 'month']).size().unstack().plot(kind='bar', stacked=True, figsize=(10,6))\n",
    "plt.title('Monthly Purchases Over the Years')\n",
    "plt.xlabel('Year')\n",
    "plt.ylabel('Number of Purchases')\n",
    "plt.legend(title='Month')\n",
    "plt.show()\n"
   ]
  },
  {
   "cell_type": "code",
   "execution_count": 41,
   "id": "ceadc8d9-7147-491e-aef1-b2f11ce707e4",
   "metadata": {},
   "outputs": [
    {
     "data": {
      "image/png": "[encoded data removed]",
      "text/plain": [
       "<Figure size 640x480 with 1 Axes>"
      ]
     },
     "metadata": {},
     "output_type": "display_data"
    }
   ],
   "source": [
    "# Gender-based purchases\n",
    "gender_counts = data[['customer_gender_1', 'customer_gender_2']].sum()\n",
    "gender_counts.index = ['Male', 'Female']\n",
    "gender_counts.plot(kind='bar', title='Gender Distribution of Purchases')\n",
    "plt.ylabel('Number of Purchases')\n",
    "plt.show()\n"
   ]
  },
  {
   "cell_type": "code",
   "execution_count": 42,
   "id": "b69c7c85-fad4-48d0-8b9f-4b2e0b2d9689",
   "metadata": {},
   "outputs": [
    {
     "data": {
      "image/png": "[encoded data removed]",
      "text/plain": [
       "<Figure size 640x480 with 1 Axes>"
      ]
     },
     "metadata": {},
     "output_type": "display_data"
    }
   ],
   "source": [
    "# Purchases by location\n",
    "location_counts = data[['location_1', 'location_2', 'location_3', 'location_4']].sum()\n",
    "location_counts.index = ['Location 1', 'Location 2', 'Location 3', 'Location 4']\n",
    "location_counts.plot(kind='bar', title='Purchases by Location')\n",
    "plt.ylabel('Number of Purchases')\n",
    "plt.show()\n"
   ]
  },
  {
   "cell_type": "code",
   "execution_count": 43,
   "id": "0a1d8242-743e-4944-a56e-e76d113f0950",
   "metadata": {},
   "outputs": [
    {
     "ename": "ValueError",
     "evalue": "could not convert string to float: 'O001'",
     "output_type": "error",
     "traceback": [
      "\u001b[1;31m---------------------------------------------------------------------------\u001b[0m",
      "\u001b[1;31mValueError\u001b[0m                                Traceback (most recent call last)",
      "Cell \u001b[1;32mIn[43], line 3\u001b[0m\n\u001b[0;32m      1\u001b[0m \u001b[38;5;66;03m# Correlation heatmap\u001b[39;00m\n\u001b[0;32m      2\u001b[0m plt\u001b[38;5;241m.\u001b[39mfigure(figsize\u001b[38;5;241m=\u001b[39m(\u001b[38;5;241m12\u001b[39m, \u001b[38;5;241m8\u001b[39m))\n\u001b[1;32m----> 3\u001b[0m sns\u001b[38;5;241m.\u001b[39mheatmap(data\u001b[38;5;241m.\u001b[39mcorr(), annot\u001b[38;5;241m=\u001b[39m\u001b[38;5;28;01mTrue\u001b[39;00m, cmap\u001b[38;5;241m=\u001b[39m\u001b[38;5;124m'\u001b[39m\u001b[38;5;124mcoolwarm\u001b[39m\u001b[38;5;124m'\u001b[39m, fmt\u001b[38;5;241m=\u001b[39m\u001b[38;5;124m\"\u001b[39m\u001b[38;5;124m.2f\u001b[39m\u001b[38;5;124m\"\u001b[39m)\n\u001b[0;32m      4\u001b[0m plt\u001b[38;5;241m.\u001b[39mtitle(\u001b[38;5;124m'\u001b[39m\u001b[38;5;124mCorrelation Matrix\u001b[39m\u001b[38;5;124m'\u001b[39m)\n\u001b[0;32m      5\u001b[0m plt\u001b[38;5;241m.\u001b[39mshow()\n",
      "File \u001b[1;32m~\\anaconda3\\Lib\\site-packages\\pandas\\core\\frame.py:10704\u001b[0m, in \u001b[0;36mDataFrame.corr\u001b[1;34m(self, method, min_periods, numeric_only)\u001b[0m\n\u001b[0;32m  10702\u001b[0m cols \u001b[38;5;241m=\u001b[39m data\u001b[38;5;241m.\u001b[39mcolumns\n\u001b[0;32m  10703\u001b[0m idx \u001b[38;5;241m=\u001b[39m cols\u001b[38;5;241m.\u001b[39mcopy()\n\u001b[1;32m> 10704\u001b[0m mat \u001b[38;5;241m=\u001b[39m data\u001b[38;5;241m.\u001b[39mto_numpy(dtype\u001b[38;5;241m=\u001b[39m\u001b[38;5;28mfloat\u001b[39m, na_value\u001b[38;5;241m=\u001b[39mnp\u001b[38;5;241m.\u001b[39mnan, copy\u001b[38;5;241m=\u001b[39m\u001b[38;5;28;01mFalse\u001b[39;00m)\n\u001b[0;32m  10706\u001b[0m \u001b[38;5;28;01mif\u001b[39;00m method \u001b[38;5;241m==\u001b[39m \u001b[38;5;124m\"\u001b[39m\u001b[38;5;124mpearson\u001b[39m\u001b[38;5;124m\"\u001b[39m:\n\u001b[0;32m  10707\u001b[0m     correl \u001b[38;5;241m=\u001b[39m libalgos\u001b[38;5;241m.\u001b[39mnancorr(mat, minp\u001b[38;5;241m=\u001b[39mmin_periods)\n",
      "File \u001b[1;32m~\\anaconda3\\Lib\\site-packages\\pandas\\core\\frame.py:1889\u001b[0m, in \u001b[0;36mDataFrame.to_numpy\u001b[1;34m(self, dtype, copy, na_value)\u001b[0m\n\u001b[0;32m   1887\u001b[0m \u001b[38;5;28;01mif\u001b[39;00m dtype \u001b[38;5;129;01mis\u001b[39;00m \u001b[38;5;129;01mnot\u001b[39;00m \u001b[38;5;28;01mNone\u001b[39;00m:\n\u001b[0;32m   1888\u001b[0m     dtype \u001b[38;5;241m=\u001b[39m np\u001b[38;5;241m.\u001b[39mdtype(dtype)\n\u001b[1;32m-> 1889\u001b[0m result \u001b[38;5;241m=\u001b[39m \u001b[38;5;28mself\u001b[39m\u001b[38;5;241m.\u001b[39m_mgr\u001b[38;5;241m.\u001b[39mas_array(dtype\u001b[38;5;241m=\u001b[39mdtype, copy\u001b[38;5;241m=\u001b[39mcopy, na_value\u001b[38;5;241m=\u001b[39mna_value)\n\u001b[0;32m   1890\u001b[0m \u001b[38;5;28;01mif\u001b[39;00m result\u001b[38;5;241m.\u001b[39mdtype \u001b[38;5;129;01mis\u001b[39;00m \u001b[38;5;129;01mnot\u001b[39;00m dtype:\n\u001b[0;32m   1891\u001b[0m     result \u001b[38;5;241m=\u001b[39m np\u001b[38;5;241m.\u001b[39marray(result, dtype\u001b[38;5;241m=\u001b[39mdtype, copy\u001b[38;5;241m=\u001b[39m\u001b[38;5;28;01mFalse\u001b[39;00m)\n",
      "File \u001b[1;32m~\\anaconda3\\Lib\\site-packages\\pandas\\core\\internals\\managers.py:1656\u001b[0m, in \u001b[0;36mBlockManager.as_array\u001b[1;34m(self, dtype, copy, na_value)\u001b[0m\n\u001b[0;32m   1654\u001b[0m         arr\u001b[38;5;241m.\u001b[39mflags\u001b[38;5;241m.\u001b[39mwriteable \u001b[38;5;241m=\u001b[39m \u001b[38;5;28;01mFalse\u001b[39;00m\n\u001b[0;32m   1655\u001b[0m \u001b[38;5;28;01melse\u001b[39;00m:\n\u001b[1;32m-> 1656\u001b[0m     arr \u001b[38;5;241m=\u001b[39m \u001b[38;5;28mself\u001b[39m\u001b[38;5;241m.\u001b[39m_interleave(dtype\u001b[38;5;241m=\u001b[39mdtype, na_value\u001b[38;5;241m=\u001b[39mna_value)\n\u001b[0;32m   1657\u001b[0m     \u001b[38;5;66;03m# The underlying data was copied within _interleave, so no need\u001b[39;00m\n\u001b[0;32m   1658\u001b[0m     \u001b[38;5;66;03m# to further copy if copy=True or setting na_value\u001b[39;00m\n\u001b[0;32m   1660\u001b[0m \u001b[38;5;28;01mif\u001b[39;00m na_value \u001b[38;5;129;01mis\u001b[39;00m lib\u001b[38;5;241m.\u001b[39mno_default:\n",
      "File \u001b[1;32m~\\anaconda3\\Lib\\site-packages\\pandas\\core\\internals\\managers.py:1715\u001b[0m, in \u001b[0;36mBlockManager._interleave\u001b[1;34m(self, dtype, na_value)\u001b[0m\n\u001b[0;32m   1713\u001b[0m     \u001b[38;5;28;01melse\u001b[39;00m:\n\u001b[0;32m   1714\u001b[0m         arr \u001b[38;5;241m=\u001b[39m blk\u001b[38;5;241m.\u001b[39mget_values(dtype)\n\u001b[1;32m-> 1715\u001b[0m     result[rl\u001b[38;5;241m.\u001b[39mindexer] \u001b[38;5;241m=\u001b[39m arr\n\u001b[0;32m   1716\u001b[0m     itemmask[rl\u001b[38;5;241m.\u001b[39mindexer] \u001b[38;5;241m=\u001b[39m \u001b[38;5;241m1\u001b[39m\n\u001b[0;32m   1718\u001b[0m \u001b[38;5;28;01mif\u001b[39;00m \u001b[38;5;129;01mnot\u001b[39;00m itemmask\u001b[38;5;241m.\u001b[39mall():\n",
      "\u001b[1;31mValueError\u001b[0m: could not convert string to float: 'O001'"
     ]
    },
    {
     "data": {
      "text/plain": [
       "<Figure size 1200x800 with 0 Axes>"
      ]
     },
     "metadata": {},
     "output_type": "display_data"
    }
   ],
   "source": [
    "# Correlation heatmap\n",
    "plt.figure(figsize=(12, 8))\n",
    "sns.heatmap(data.corr(), annot=True, cmap='coolwarm', fmt=\".2f\")\n",
    "plt.title('Correlation Matrix')\n",
    "plt.show()\n"
   ]
  },
  {
   "cell_type": "code",
   "execution_count": null,
   "id": "4c0ededf-db0e-47b4-834e-24200c46376c",
   "metadata": {},
   "outputs": [],
   "source": []
  }
 ],
 "metadata": {
  "kernelspec": {
   "display_name": "Python 3 (ipykernel)",
   "language": "python",
   "name": "python3"
  },
  "language_info": {
   "codemirror_mode": {
    "name": "ipython",
    "version": 3
   },
   "file_extension": ".py",
   "mimetype": "text/x-python",
   "name": "python",
   "nbconvert_exporter": "python",
   "pygments_lexer": "ipython3",
   "version": "3.11.7"
  }
 },
 "nbformat": 4,
 "nbformat_minor": 5
}
